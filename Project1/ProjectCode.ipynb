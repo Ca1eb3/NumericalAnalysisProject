{
 "cells": [
  {
   "cell_type": "markdown",
   "id": "479833df",
   "metadata": {},
   "source": [
    "Imports"
   ]
  },
  {
   "cell_type": "code",
   "execution_count": 239,
   "id": "44983103",
   "metadata": {},
   "outputs": [],
   "source": [
    "import math"
   ]
  },
  {
   "cell_type": "markdown",
   "id": "c2055dc8",
   "metadata": {},
   "source": [
    "Converts an integer into an 11 bit string."
   ]
  },
  {
   "cell_type": "code",
   "execution_count": 240,
   "id": "ea0f1364",
   "metadata": {},
   "outputs": [],
   "source": [
    "def IntToBinary(x:int):\n",
    "    y = \"\"\n",
    "    i = 10\n",
    "    while i > -1:\n",
    "        if x >= 2**i:\n",
    "            y = y + \"1\"\n",
    "            x = x - 2**i\n",
    "        else:\n",
    "            y = y + \"0\"\n",
    "        i = i - 1\n",
    "    return y"
   ]
  },
  {
   "cell_type": "markdown",
   "id": "7c7a9460",
   "metadata": {},
   "source": [
    "Converts a decimal into an n bit Mantissa"
   ]
  },
  {
   "cell_type": "code",
   "execution_count": 241,
   "id": "4df60086",
   "metadata": {},
   "outputs": [],
   "source": [
    "def FloatToBinaryMantissa(x:float):\n",
    "    y = \"\"\n",
    "    for i in range (1, 53):\n",
    "        if x >= 1/(2**i):\n",
    "            y = y + \"1\"\n",
    "            x = x - 1/(2**i)\n",
    "        else:\n",
    "            y = y + \"0\"\n",
    "    return y"
   ]
  },
  {
   "cell_type": "markdown",
   "id": "962b1d82",
   "metadata": {},
   "source": [
    "Converts an n bit string into an integer."
   ]
  },
  {
   "cell_type": "code",
   "execution_count": 242,
   "id": "efc17f39",
   "metadata": {},
   "outputs": [],
   "source": [
    "def BinaryToInt(x:str):\n",
    "    y = 0\n",
    "    i=len(x)-1\n",
    "    for char in x:\n",
    "        y = y + int(char)*2**(i)\n",
    "        i = i - 1\n",
    "    return y"
   ]
  },
  {
   "cell_type": "markdown",
   "id": "ca82d5d8",
   "metadata": {},
   "source": [
    "Converts an n bit string into a Mantissa."
   ]
  },
  {
   "cell_type": "code",
   "execution_count": 243,
   "id": "a370db52",
   "metadata": {},
   "outputs": [],
   "source": [
    "def BinaryToMantissa(x:str):\n",
    "    y = 0\n",
    "    i=1\n",
    "    for char in x:\n",
    "        y = y + int(char)*(1/(2**(i)))\n",
    "        i = i + 1\n",
    "    return y"
   ]
  },
  {
   "cell_type": "markdown",
   "id": "0b880744",
   "metadata": {},
   "source": [
    "Converts a 64 bit machine number into a real number according to IEEE 754."
   ]
  },
  {
   "cell_type": "code",
   "execution_count": 244,
   "id": "24cdf63d",
   "metadata": {},
   "outputs": [],
   "source": [
    "def ToRealNumber(x:str):\n",
    "    x = x.replace(\" \", \"\")\n",
    "    for char in x:\n",
    "        if char != \"0\" and char != \"1\":\n",
    "            return \"Invalid Input\"\n",
    "    if len(x) != 64:\n",
    "        return \"Invalid Input\"\n",
    "    s = BinaryToInt(x[:1])\n",
    "    c = BinaryToInt(x[1:12])\n",
    "    f = BinaryToMantissa(x[12:64])\n",
    "    m = ((-1)**(s))*(2**(c-1023))*(1+f)\n",
    "    return m"
   ]
  },
  {
   "cell_type": "markdown",
   "id": "d8b9f638",
   "metadata": {},
   "source": [
    "Converts a floating point real number into a 64 bit machine number."
   ]
  },
  {
   "cell_type": "code",
   "execution_count": 256,
   "id": "1a6c01d8",
   "metadata": {},
   "outputs": [],
   "source": [
    "def To64Bit(x:float):\n",
    "    s = \"0\"\n",
    "    c = \"\"\n",
    "    f = \"\"\n",
    "    if x != abs(x):\n",
    "        s = \"1\"\n",
    "    x = abs(x)\n",
    "    if x == 0:\n",
    "        return \"0000000000000000000000000000000000000000000000000000000000000000\"\n",
    "    exp = int(math.log2(x))\n",
    "    c = IntToBinary(exp + 1023)\n",
    "    f = FloatToBinaryMantissa((x / 2**exp) - 1)\n",
    "    BitString = s + c + f  \n",
    "    return BitString"
   ]
  }
 ],
 "metadata": {
  "kernelspec": {
   "display_name": "base",
   "language": "python",
   "name": "python3"
  },
  "language_info": {
   "codemirror_mode": {
    "name": "ipython",
    "version": 3
   },
   "file_extension": ".py",
   "mimetype": "text/x-python",
   "name": "python",
   "nbconvert_exporter": "python",
   "pygments_lexer": "ipython3",
   "version": "3.11.4"
  }
 },
 "nbformat": 4,
 "nbformat_minor": 5
}
