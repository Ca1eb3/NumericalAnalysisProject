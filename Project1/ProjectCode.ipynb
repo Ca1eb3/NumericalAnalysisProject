{
 "cells": [
  {
   "cell_type": "markdown",
   "id": "962b1d82",
   "metadata": {},
   "source": [
    "Converts an n bit string into an integer."
   ]
  },
  {
   "cell_type": "code",
   "execution_count": null,
   "id": "efc17f39",
   "metadata": {},
   "outputs": [],
   "source": [
    "def BinaryToInt(x:str):\n",
    "    y = 0\n",
    "    i=len(x)-1\n",
    "    for char in x:\n",
    "        y = y + int(char)*2**(i)\n",
    "        i = i - 1\n",
    "    return y"
   ]
  },
  {
   "cell_type": "markdown",
   "id": "ca82d5d8",
   "metadata": {},
   "source": [
    "Converts an n bit string into a Mantissa."
   ]
  },
  {
   "cell_type": "code",
   "execution_count": null,
   "id": "a370db52",
   "metadata": {},
   "outputs": [],
   "source": [
    "def BinaryToMantissa(x:str):\n",
    "    y = 0\n",
    "    i=1\n",
    "    for char in x:\n",
    "        y = y + int(char)*(1/(2**(i)))\n",
    "        i = i + 1\n",
    "    return y"
   ]
  },
  {
   "cell_type": "markdown",
   "id": "0b880744",
   "metadata": {},
   "source": [
    "Converts a 64 bit machine number into a real number according to IEEE 754."
   ]
  },
  {
   "cell_type": "code",
   "execution_count": null,
   "id": "24cdf63d",
   "metadata": {},
   "outputs": [],
   "source": [
    "def ToRealNumber(x:str):\n",
    "    s = BinaryToInt(x[:1])\n",
    "    c = BinaryToInt(x[1:12])\n",
    "    f = BinaryToMantissa(x[12:64])\n",
    "    m = ((-1)**(s))*(2**(c-1023))*(1+f)\n",
    "    return m"
   ]
  }
 ],
 "metadata": {
  "kernelspec": {
   "display_name": "base",
   "language": "python",
   "name": "python3"
  },
  "language_info": {
   "codemirror_mode": {
    "name": "ipython",
    "version": 3
   },
   "file_extension": ".py",
   "mimetype": "text/x-python",
   "name": "python",
   "nbconvert_exporter": "python",
   "pygments_lexer": "ipython3",
   "version": "3.11.4"
  }
 },
 "nbformat": 4,
 "nbformat_minor": 5
}
